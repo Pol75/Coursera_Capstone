{
 "cells": [
  {
   "cell_type": "markdown",
   "metadata": {},
   "source": [
    "# Capstone project -- Opening a restaurant\n",
    "\n",
    "## Introduction and business problem\n",
    "\n",
    "### Problem Description"
   ]
  },
  {
   "cell_type": "markdown",
   "metadata": {},
   "source": [
    "Nowadays, it is difficult to imagine a city without a restaurant or a vanue for food where people can have a meal or drink. The city of my choose is Taganrog that is the leading historic, cultural and industrial center in the South of Russia. Local industry and businesses are represented by aerospace, machine-building, military, iron and steel industry, farming, food, theathers, museums and one of the major ports of Azov Sea. That means there are a lot of business opportunities for restaurant business what leads to high competition.\n",
    "\n",
    "To survive in such competitive market it is very important to find right place and take into account many other important factors such as:\n",
    "* City population\n",
    "* Sport And Entertainment zones\n",
    "* Food markets with products of local farmers\n",
    "* Local competitors and their ratings\n",
    "* etc\n",
    "\n",
    "In order to reduce the risks and avoid loss of money, the analisys of all accessible data should be carried out carefully in order to choose a suitable place or location. In my opinion, even an amazing idea or ingenious concept will not make your restaurant business successful without suitable place for it.\n",
    "\n",
    "Every time when someone want to open a cafe or restaurant or similar businesses, the very first question is where to open and how to find such ideal for your business place. Although there are many other important factor that you should take into account, but no ingenious concept will make your business successful without suitable place for it.\n",
    "\n",
    "To solve the problem of finding the right place, we should find all existing businesses in the city of interest and explore them carefully to understand what we already have. To plot our businesses on map and find obvious patterns or clusters.\n",
    "\n",
    "The general approach to solution is to cluster businesses in a city of choice and identify what cluster fit best of all. It may either be a cluster with the most popular venues for food or a cluster having similar parameters but the least vanues for food."
   ]
  },
  {
   "cell_type": "markdown",
   "metadata": {},
   "source": [
    "## Data description\n",
    "https://nominatim.openstreetmap.org/search?format=json&q=Taganrog&polygon_geojson=1\n",
    "\n",
    "https://en.wikipedia.org/wiki/Taganrog"
   ]
  },
  {
   "cell_type": "markdown",
   "metadata": {},
   "source": [
    "To solve the problem of finding the place for opening a cafe, we need the list of all existing venues/businesses in the city of interest that will be my native city of Taganrog located in Russia. For collecting existing venues, Foursquare will be used and the following attributes for each vanue will be collected:\n",
    "* Name -- vanue name\n",
    "* Category -- vanue category\n",
    "* Location -- vanue location\n",
    "* Latitude -- venue latitude\n",
    "* Longitude -- venue longitude\n",
    "* Rating -- numerical rating of the venue (0 through 10)\n",
    "* Tips -- total count of tips\n",
    "* Likes -- the count of users who have liked this venue\n",
    "\n",
    "Foursquare will provide data about venues within a boundingbox using the sw and ne parameters of SEARCH endpoint. The entire city will be covered by bounding boxes of the same size (with step 0.005 or approx  in meters) creating a coordinate grid."
   ]
  },
  {
   "cell_type": "markdown",
   "metadata": {},
   "source": [
    "#### Example of data from Foursquare\n",
    "The first five venues within 700 meters bounding box of city center are below:\n",
    "* Мясник и бык, Theme Restaurant: 47.212617, 8.933402\n",
    "* Театр имени А. П. Чехова, Theater: 47.216325, 38.928217\n",
    "* Таганрогский художественный музей, Art Museum: 47.210121, 38.930846\n",
    "* Три Орешка, Coffee Shop: 47.215685, 38.931146\n",
    "* Рашен Страшен, Cocktail Bar: 47.218004, 38.916598"
   ]
  },
  {
   "cell_type": "markdown",
   "metadata": {
    "button": false,
    "new_sheet": false,
    "run_control": {
     "read_only": false
    }
   },
   "source": [
    "##### Define Foursquare Credentials and Version"
   ]
  },
  {
   "cell_type": "code",
   "execution_count": 165,
   "metadata": {
    "button": false,
    "collapsed": false,
    "jupyter": {
     "outputs_hidden": false
    },
    "new_sheet": false,
    "run_control": {
     "read_only": false
    }
   },
   "outputs": [],
   "source": [
    "# Pull API keys from the file\n",
    "with open('4square_keys.txt','r') as f:\n",
    "    CLIENT_ID, CLIENT_SECRET = [l.strip() for l in f.readlines()]\n",
    "\n",
    "VERSION = '20180604'\n",
    "LIMIT = 500"
   ]
  },
  {
   "cell_type": "code",
   "execution_count": 2,
   "metadata": {},
   "outputs": [
    {
     "name": "stdout",
     "output_type": "stream",
     "text": [
      "Libraries imported.\n"
     ]
    }
   ],
   "source": [
    "import numpy as np # library to handle data in a vectorized manner\n",
    "import pandas as pd # library for data analsysis\n",
    "import json # library to handle JSON files\n",
    "\n",
    "#!conda install -c conda-forge geopy --yes # uncomment this line if you haven't completed the Foursquare API lab\n",
    "from geopy.geocoders import Nominatim # convert an address into latitude and longitude values\n",
    "\n",
    "import requests # library to handle requests\n",
    "from pandas.io.json import json_normalize # tranform JSON file into a pandas dataframe\n",
    "\n",
    "# Matplotlib and associated plotting modules\n",
    "import matplotlib.cm as cm\n",
    "import matplotlib.colors as colors\n",
    "\n",
    "# import k-means from clustering stage\n",
    "from sklearn.cluster import KMeans\n",
    "\n",
    "#!conda install -c conda-forge folium=0.5.0 --yes # uncomment this line if you haven't completed the Foursquare API lab\n",
    "import folium # map rendering library\n",
    "\n",
    "print('Libraries imported.')"
   ]
  },
  {
   "cell_type": "code",
   "execution_count": null,
   "metadata": {},
   "outputs": [],
   "source": []
  }
 ],
 "metadata": {
  "kernelspec": {
   "display_name": "Python 3",
   "language": "python",
   "name": "python3"
  },
  "language_info": {
   "codemirror_mode": {
    "name": "ipython",
    "version": 3
   },
   "file_extension": ".py",
   "mimetype": "text/x-python",
   "name": "python",
   "nbconvert_exporter": "python",
   "pygments_lexer": "ipython3",
   "version": "3.7.3"
  }
 },
 "nbformat": 4,
 "nbformat_minor": 2
}
