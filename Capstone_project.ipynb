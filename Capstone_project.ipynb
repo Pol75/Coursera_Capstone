{
 "cells": [
  {
   "cell_type": "markdown",
   "metadata": {},
   "source": [
    "# Capstone project -- Opening a restaurant\n",
    "\n",
    "## Introduction and business problem\n",
    "\n",
    "### Problem Description"
   ]
  },
  {
   "cell_type": "markdown",
   "metadata": {},
   "source": [
    "Nowadays, it is difficult to imagine a city without a restaurant or a venue for food where people can have a meal or drink. The city of my choose is Taganrog that is the leading historic, cultural and industrial center in the South of Russia. Local industry and businesses are represented by aerospace, machine-building, military, iron and steel industry, farming, food, theathers, museums and one of the major ports of Azov Sea. That means there are a lot of business opportunities for restaurant business what leads to high competition.\n",
    "\n",
    "To survive in such competitive market it is very important to find right place and take into account many other important factors such as:\n",
    "* City population\n",
    "* Sport And Entertainment zones\n",
    "* Food markets with products of local farmers\n",
    "* Local competitors and their ratings\n",
    "* etc\n",
    "\n",
    "In order to reduce the risks and avoid loss of money, the analysis of all accessible data should be carried out carefully in order to choose a suitable place or location. In my opinion, even an amazing idea or ingenious concept will not make your restaurant business successful without suitable place for it.\n",
    "\n",
    "Obviously, this project will be interesting both for a big company and anyone who wants to open a new restaurant in Taganrog city.\n"
   ]
  },
  {
   "cell_type": "markdown",
   "metadata": {},
   "source": [
    "## Data description"
   ]
  },
  {
   "cell_type": "markdown",
   "metadata": {},
   "source": [
    "The city of <b>Taganrog</b> (located in the South of Russia) will be analyzed in this project.\n",
    "\n",
    "To solve the problem of finding the right location, we should find all existing businesses in the city of interest, explore them carefully to understand what we already have and plot our venues on map to gain insights, possible patterns or clusters."
   ]
  },
  {
   "cell_type": "markdown",
   "metadata": {},
   "source": [
    "For further analysis we will use the following data sources:\n",
    "1. Wikipedia page for city population (https://en.wikipedia.org/wiki/Taganrog)\n",
    "2. Nominatim search engine for OpenStreetMap data to get the bounding box of the city\n",
    "    (https://nominatim.openstreetmap.org/search?format=json&q=Taganrog&polygon_geojson=1)\n",
    "3. Foursquare API"
   ]
  },
  {
   "cell_type": "markdown",
   "metadata": {},
   "source": [
    "Foursquare will be used as the main data source for analysis. We will retrieve both geographical coordinates and additional information about each venue using Foursquare API.\n",
    "\n",
    "The following attributes for each venue will be collected:\n",
    "* Id -- venue id (in order to remove duplicates)\n",
    "* Venue -- venue name\n",
    "* Category -- venue category\n",
    "* Location -- venue address\n",
    "* Latitude -- venue latitude\n",
    "* Longitude -- venue longitude\n",
    "* Rating -- numerical rating of the venue (0 through 10)\n",
    "* Tips -- total count of tips\n",
    "* Likes -- the count of users who have liked this venue"
   ]
  },
  {
   "cell_type": "markdown",
   "metadata": {},
   "source": [
    "Because Taganrog city has no neighborhood division like cities in the United States, we will build a coordinate grid that will cover the entire city by cells (or squares) of size 0.005x0.005 or 700x700 metre approximately.\n",
    "South-west (sw) and north-east (ne) corners of cells will be utilized as input for the <b>search</b> endpoint of Foursquare API."
   ]
  },
  {
   "cell_type": "markdown",
   "metadata": {},
   "source": [
    "#### Example of data from Foursquare\n",
    "The first five venues within 700 meters bounding box of city center are below:\n",
    "* Мясник и бык, Theme Restaurant: 47.212617, 8.933402\n",
    "* Театр имени А. П. Чехова, Theater: 47.216325, 38.928217\n",
    "* Таганрогский художественный музей, Art Museum: 47.210121, 38.930846\n",
    "* Три Орешка, Coffee Shop: 47.215685, 38.931146\n",
    "* Рашен Страшен, Cocktail Bar: 47.218004, 38.916598"
   ]
  },
  {
   "cell_type": "code",
   "execution_count": 305,
   "metadata": {},
   "outputs": [
    {
     "data": {
      "text/html": [
       "<div>\n",
       "<style scoped>\n",
       "    .dataframe tbody tr th:only-of-type {\n",
       "        vertical-align: middle;\n",
       "    }\n",
       "\n",
       "    .dataframe tbody tr th {\n",
       "        vertical-align: top;\n",
       "    }\n",
       "\n",
       "    .dataframe thead th {\n",
       "        text-align: right;\n",
       "    }\n",
       "</style>\n",
       "<table border=\"1\" class=\"dataframe\">\n",
       "  <thead>\n",
       "    <tr style=\"text-align: right;\">\n",
       "      <th></th>\n",
       "      <th>Venue</th>\n",
       "      <th>Latitude</th>\n",
       "      <th>Longitude</th>\n",
       "      <th>Category</th>\n",
       "      <th>Id</th>\n",
       "    </tr>\n",
       "  </thead>\n",
       "  <tbody>\n",
       "    <tr>\n",
       "      <th>0</th>\n",
       "      <td>Площадь перед администрацией города</td>\n",
       "      <td>47.215733</td>\n",
       "      <td>38.928230</td>\n",
       "      <td>Plaza</td>\n",
       "      <td>5368f4ad498ea0cb80cef632</td>\n",
       "    </tr>\n",
       "    <tr>\n",
       "      <th>1</th>\n",
       "      <td>Культ вина</td>\n",
       "      <td>47.215510</td>\n",
       "      <td>38.929310</td>\n",
       "      <td>Wine Bar</td>\n",
       "      <td>5c74142e60255e002c1aefbc</td>\n",
       "    </tr>\n",
       "    <tr>\n",
       "      <th>2</th>\n",
       "      <td>Театр имени А. П. Чехова</td>\n",
       "      <td>47.216325</td>\n",
       "      <td>38.928217</td>\n",
       "      <td>Theater</td>\n",
       "      <td>4dcbe98a1f6ea1401d49d12a</td>\n",
       "    </tr>\n",
       "    <tr>\n",
       "      <th>3</th>\n",
       "      <td>Администрация Таганрога</td>\n",
       "      <td>47.215517</td>\n",
       "      <td>38.928420</td>\n",
       "      <td>City Hall</td>\n",
       "      <td>4da693d90cb66f658708dafc</td>\n",
       "    </tr>\n",
       "    <tr>\n",
       "      <th>4</th>\n",
       "      <td>Л'Этуаль</td>\n",
       "      <td>47.215416</td>\n",
       "      <td>38.929266</td>\n",
       "      <td>Cosmetics Shop</td>\n",
       "      <td>4f83002ee4b0b2237e8a6cb1</td>\n",
       "    </tr>\n",
       "  </tbody>\n",
       "</table>\n",
       "</div>"
      ],
      "text/plain": [
       "                                 Venue   Latitude  Longitude        Category  \\\n",
       "0  Площадь перед администрацией города  47.215733  38.928230           Plaza   \n",
       "1                           Культ вина  47.215510  38.929310        Wine Bar   \n",
       "2             Театр имени А. П. Чехова  47.216325  38.928217         Theater   \n",
       "3              Администрация Таганрога  47.215517  38.928420       City Hall   \n",
       "4                             Л'Этуаль  47.215416  38.929266  Cosmetics Shop   \n",
       "\n",
       "                         Id  \n",
       "0  5368f4ad498ea0cb80cef632  \n",
       "1  5c74142e60255e002c1aefbc  \n",
       "2  4dcbe98a1f6ea1401d49d12a  \n",
       "3  4da693d90cb66f658708dafc  \n",
       "4  4f83002ee4b0b2237e8a6cb1  "
      ]
     },
     "execution_count": 305,
     "metadata": {},
     "output_type": "execute_result"
    }
   ],
   "source": []
  }
 ],
 "metadata": {
  "kernelspec": {
   "display_name": "Python 3",
   "language": "python",
   "name": "python3"
  },
  "language_info": {
   "codemirror_mode": {
    "name": "ipython",
    "version": 3
   },
   "file_extension": ".py",
   "mimetype": "text/x-python",
   "name": "python",
   "nbconvert_exporter": "python",
   "pygments_lexer": "ipython3",
   "version": "3.7.3"
  }
 },
 "nbformat": 4,
 "nbformat_minor": 2
}
